{
 "cells": [
  {
   "cell_type": "code",
   "execution_count": 1,
   "id": "7a055f16-44c7-4f7a-8645-8053ccf6abbc",
   "metadata": {},
   "outputs": [],
   "source": [
    "import os\n",
    "import time\n",
    "import shutil\n",
    "from pathlib import Path"
   ]
  },
  {
   "cell_type": "code",
   "execution_count": 2,
   "id": "d8c2c7cb-428a-4d6d-9b86-d828d0f69efe",
   "metadata": {},
   "outputs": [],
   "source": [
    "folderToSort = \"/path/to/folder/to/be/sorted\"\n",
    "folderToSave = \"/path/to/folder/for/sorted/files\"\n",
    "\n",
    "openSubFolders = True   # whether the subfolders are opened and the files inside sorted together with everything else (if False folders get sorted)\n",
    "fileExtensionsByDate = [\"png\", \"jpg\", \"jpeg\", \"mp4\"]\n",
    "fileExtensionsByType = [\"pdf\", \"epub\", \"txt\", \"mp3\"]"
   ]
  },
  {
   "cell_type": "code",
   "execution_count": 3,
   "id": "f2393c0b-4178-443b-959e-2d445cbcfe19",
   "metadata": {},
   "outputs": [],
   "source": [
    "# FUNCTIONS\n",
    "def openFolder(folder):\n",
    "    files = []\n",
    "    for file in Path(folder).iterdir():\n",
    "        if(os.path.isdir(file)):\n",
    "            files = files + openFolder(file)\n",
    "        else:\n",
    "            files.append(str(file))\n",
    "    return files\n",
    "\n",
    "def removeDuplicates(x):\n",
    "    return list(dict.fromkeys(x))\n",
    "\n",
    "def sort(files):\n",
    "    for file in files:\n",
    "        if \"Screenshot\" in file or \"screenshot\" in file:\n",
    "            newFolder = folderToSave + \"/screenshots\"\n",
    "            Path(newFolder).mkdir(parents=True, exist_ok=True)\n",
    "            shutil.copy2(file,newFolder)\n",
    "        else:\n",
    "            ext = file.rsplit('.',1)[-1]\n",
    "            if ext in fileExtensionsByDate:\n",
    "                date = time.strftime(\"%Y-%m\", time.strptime(time.ctime(os.path.getmtime(file))))\n",
    "                newFolder = folderToSave + \"/\" + date\n",
    "                Path(newFolder).mkdir(parents=True, exist_ok=True)\n",
    "                shutil.copy2(file,newFolder)\n",
    "            elif ext in fileExtensionsByType:\n",
    "                newFolder = folderToSave + \"/\" + ext\n",
    "                Path(newFolder).mkdir(parents=True, exist_ok=True)\n",
    "                shutil.copy2(file,newFolder)"
   ]
  },
  {
   "cell_type": "code",
   "execution_count": 4,
   "id": "78f6dcab-d7da-4315-8cf6-86084529cdb8",
   "metadata": {},
   "outputs": [
    {
     "name": "stdout",
     "output_type": "stream",
     "text": [
      "found 33546 files\n"
     ]
    }
   ],
   "source": [
    "files = removeDuplicates(openFolder(folderToSort))\n",
    "print(\"found \" + str(len(files)) + \" files\")"
   ]
  },
  {
   "cell_type": "code",
   "execution_count": 5,
   "id": "1e6a6762-1f6b-4a6e-a12a-5408f6713afc",
   "metadata": {},
   "outputs": [],
   "source": [
    "sort(files)"
   ]
  }
 ],
 "metadata": {
  "kernelspec": {
   "display_name": "Python 3 (ipykernel)",
   "language": "python",
   "name": "python3"
  },
  "language_info": {
   "codemirror_mode": {
    "name": "ipython",
    "version": 3
   },
   "file_extension": ".py",
   "mimetype": "text/x-python",
   "name": "python",
   "nbconvert_exporter": "python",
   "pygments_lexer": "ipython3",
   "version": "3.9.12"
  }
 },
 "nbformat": 4,
 "nbformat_minor": 5
}
